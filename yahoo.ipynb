{
 "cells": [
  {
   "cell_type": "code",
   "execution_count": 1,
   "metadata": {},
   "outputs": [],
   "source": [
    "#start\n",
    "import gspread #type:ignore NOQA\n",
    "import imaplib\n",
    "import email\n",
    "import json\n",
    "\n",
    "#connecting to GSeets and selecting the file\n",
    "sa = gspread.service_account(filename=\"sa_creds.json\")\n",
    "\n",
    "#read credentials from json\n",
    "with open(\"ym_creds.json\", \"r\") as f:\n",
    "    jmCreds = json.load(f)"
   ]
  },
  {
   "cell_type": "code",
   "execution_count": 2,
   "metadata": {},
   "outputs": [],
   "source": [
    "maximaEmailList = [] #list to write to GSheets\n",
    "def maximaEmails(emailList):\n",
    "    decodedemailList = emailList[0].decode()\n",
    "    singleEmails = decodedemailList.split()\n",
    "    for i in singleEmails:\n",
    "        f = ['Maxima']\n",
    "        f.append(i)\n",
    "        maximaEmailList.append(f)"
   ]
  },
  {
   "cell_type": "code",
   "execution_count": 3,
   "metadata": {},
   "outputs": [],
   "source": [
    "sh = sa.open(\"Grocery\")\n",
    "#selecting sheets:\n",
    "wksEmails = sh.worksheet(\"Emails\")"
   ]
  },
  {
   "cell_type": "code",
   "execution_count": 4,
   "metadata": {},
   "outputs": [],
   "source": [
    "wksEmails.get()\n",
    "maximaAlreadyIn = [i[1] for i in wksEmails.get() if 'Maxima' in i[0]]"
   ]
  },
  {
   "cell_type": "code",
   "execution_count": 5,
   "metadata": {},
   "outputs": [
    {
     "data": {
      "text/plain": [
       "('OK', [b'5528'])"
      ]
     },
     "execution_count": 5,
     "metadata": {},
     "output_type": "execute_result"
    }
   ],
   "source": [
    "# Connect to the Yahoo Mail IMAP server\n",
    "imap_server = imaplib.IMAP4_SSL(\"imap.mail.yahoo.com\")\n",
    "# Login to the account\n",
    "imap_server.login(jmCreds[\"email\"], jmCreds[\"password\"])\n",
    "# Select the \"Inbox\" folder\n",
    "imap_server.select(\"Inbox\")"
   ]
  },
  {
   "cell_type": "code",
   "execution_count": 6,
   "metadata": {},
   "outputs": [],
   "source": [
    "# Search for all emails: status, email_ids = imap_server.search(None, \"ALL\")\n",
    "# Search for all emails from MAXIMA\n",
    "status, email_ids = imap_server.search(None, \"FROM noreply.code.provider@maxima.lt\")\n",
    "maximaEmails = email_ids[0].decode().split()"
   ]
  },
  {
   "cell_type": "code",
   "execution_count": 7,
   "metadata": {},
   "outputs": [
    {
     "data": {
      "text/plain": [
       "['5468', '5482', '5495', '5497']"
      ]
     },
     "execution_count": 7,
     "metadata": {},
     "output_type": "execute_result"
    }
   ],
   "source": [
    "maximaToAdd = [i for i in maximaEmails if i not in maximaAlreadyIn]\n",
    "maximaToAdd"
   ]
  },
  {
   "cell_type": "code",
   "execution_count": 8,
   "metadata": {},
   "outputs": [],
   "source": [
    "for i in maximaToAdd:\n",
    "    status, email_data = imap_server.fetch(i, \"(RFC822)\")\n",
    "    email_message = email.message_from_bytes(email_data[0][1])"
   ]
  },
  {
   "cell_type": "code",
   "execution_count": 9,
   "metadata": {},
   "outputs": [],
   "source": [
    "#get message bu ID\n",
    "status, email_data = imap_server.fetch(\"5497\", \"(RFC822)\")\n",
    "email_message = email.message_from_bytes(email_data[0][1])"
   ]
  },
  {
   "cell_type": "code",
   "execution_count": 10,
   "metadata": {},
   "outputs": [],
   "source": [
    "msg1 = email_message.get_payload()[0]\n",
    "msg1body = msg1.get_payload(decode=True)\n",
    "msg2 = email_message.get_payload()[0]\n",
    "msg2body = msg2.get_payload(decode=True)\n",
    "msg3 = email_message.get_payload()[0]\n",
    "msg3body = msg3.get_payload(decode=True)"
   ]
  },
  {
   "cell_type": "code",
   "execution_count": 11,
   "metadata": {},
   "outputs": [
    {
     "name": "stdout",
     "output_type": "stream",
     "text": [
      "<html><body>\n",
      "\n",
      "\n",
      "<html>\n",
      "\n",
      "<body>\n",
      "\n",
      "    <div class=\"previewText\" style=\"display:none; max-height: 0px; overflow: hidden\">\n",
      "            <p>Apsipirkimo suma: 13.48 EUR</p>\n",
      "            <br />\n",
      "                <p>Kvito nuolaidų suma: 3.08 EUR</p>\n",
      "                <br />\n",
      "                <p> MAXIMOS PINIGŲ likutis: 0.13 EUR </p>\n",
      "            <p>\n",
      "                &nbsp;&zwnj;&nbsp;&zwnj;&nbsp;&zwnj;&nbsp;&zwnj;&nbsp;&zwnj;&nbsp;&zwnj;&nbsp;&zwnj;&nbsp;&zwnj;&nbsp;&zwnj;&nbsp;&zwnj;&nbsp;&zwnj;&nbsp;&zwnj;&nbsp;&zwnj;&nbsp;\n",
      "                &nbsp;&zwnj;&nbsp;&zwnj;&nbsp;&zwnj;&nbsp;&zwnj;&nbsp;&zwnj;&nbsp;&zwnj;&nbsp;&zwnj;&nbsp;&zwnj;&nbsp;&zwnj;&nbsp;&zwnj;&nbsp;&zwnj;&nbsp;&zwnj;&nbsp;&zwnj;&nbsp;\n",
      "                &nbsp;&zwnj;&nbsp;&zwnj;&nbsp;&zwnj;&nbsp;&zwnj;&nbsp;&zwnj;&nbsp;&zwnj;&nbsp;&zwnj;&nbsp;&zwnj;&nbsp;&zwnj;&nbsp;&zwnj;&nbsp;&zwnj;&nbsp;&zwnj;&nbsp;&zwnj;&nbsp;\n",
      "                &nbsp;&zwnj;&nbsp;&zwnj;&nbsp;&zwnj;&nbsp;&zwnj;&nbsp;&zwnj;&nbsp;&zwnj;&nbsp;&zwnj;&nbsp;&zwnj;&nbsp;&zwnj;&nbsp;&zwnj;&nbsp;&zwnj;&nbsp;&zwnj;&nbsp;&zwnj;&nbsp;\n",
      "                &nbsp;&zwnj;&nbsp;&zwnj;&nbsp;&zwnj;&nbsp;&zwnj;&nbsp;&zwnj;&nbsp;&zwnj;&nbsp;&zwnj;&nbsp;&zwnj;&nbsp;&zwnj;&nbsp;&zwnj;&nbsp;&zwnj;&nbsp;&zwnj;&nbsp;&zwnj;&nbsp;\n",
      "                &nbsp;&zwnj;&nbsp;&zwnj;&nbsp;&zwnj;&nbsp;&zwnj;&nbsp;&zwnj;&nbsp;&zwnj;&nbsp;&zwnj;&nbsp;&zwnj;&nbsp;&zwnj;&nbsp;&zwnj;&nbsp;&zwnj;&nbsp;&zwnj;&nbsp;&zwnj;&nbsp;\n",
      "                &nbsp;&zwnj;&nbsp;&zwnj;&nbsp;&zwnj;&nbsp;&zwnj;&nbsp;&zwnj;&nbsp;&zwnj;&nbsp;&zwnj;&nbsp;&zwnj;&nbsp;&zwnj;&nbsp;&zwnj;&nbsp;&zwnj;&nbsp;&zwnj;&nbsp;&zwnj;&nbsp;\n",
      "                &nbsp;&zwnj;&nbsp;&zwnj;&nbsp;&zwnj;&nbsp;&zwnj;&nbsp;&zwnj;&nbsp;&zwnj;&nbsp;&zwnj;&nbsp;&zwnj;&nbsp;&zwnj;&nbsp;&zwnj;&nbsp;&zwnj;&nbsp;&zwnj;&nbsp;&zwnj;&nbsp;\n",
      "                &nbsp;&zwnj;&nbsp;&zwnj;&nbsp;&zwnj;&nbsp;&zwnj;&nbsp;&zwnj;&nbsp;&zwnj;&nbsp;&zwnj;&nbsp;&zwnj;&nbsp;&zwnj;&nbsp;&zwnj;&nbsp;&zwnj;&nbsp;&zwnj;&nbsp;&zwnj;&nbsp;\n",
      "                &nbsp;&zwnj;&nbsp;&zwnj;&nbsp;&zwnj;&nbsp;&zwnj;&nbsp;&zwnj;&nbsp;&zwnj;&nbsp;&zwnj;&nbsp;&zwnj;&nbsp;&zwnj;&nbsp;&zwnj;&nbsp;&zwnj;&nbsp;&zwnj;&nbsp;&zwnj;&nbsp;\n",
      "            </p>\n",
      "    </div>\n",
      "\n",
      "    <table border=\"0\" align=\"center\">\n",
      "        <tbody>\n",
      "            <tr>\n",
      "                <td>\n",
      "                    <p style=\"text-align: center;\">Sveiki,</p>\n",
      "                        <pre style=\"text-align: center;\"> Tai vienintelis Jūsų pirkinių kvitas. \n",
      "Išsaugokite laišką, kad galėtumėte prireikus grąžinti \n",
      "prekes ar pasinaudoti garantiniu aptarnavimu.</pre>\n",
      "                    <p style=\"text-align: center;\"><img style=\"width: 338px; height: 63px;\" src=\"cid:6c112a3a-e174-41d9-9d8c-5a4ef6e81df8\" alt=\"\" data-udi=\"umb://media/f7b6abb6c1414edfb94ae570ea9225be\" /></p>\n",
      "                        <div style=\"text-align: center\">\n",
      "                            <pre>MAXIMA LT, UAB<br />Ukmergės g. 369, Vilnius, Kasa Nr. 9<br />PVM mokėtojo kodas LT230335113</pre>\n",
      "                        </div>\n",
      "                </td>\n",
      "            </tr>\n",
      "            <tr>\n",
      "                <td>\n",
      "                    <pre>Kvitas 250/1104                                #00338293\n",
      "Vištienos sultinys GALLINA BLANCA                 1,15 A\n",
      "Nuolaida prekei                                  -0,36 A\n",
      "Gazuotas gėrimas COCA COLA                        0,99 A\n",
      "PET (depozitinis) 0,10 EUR                        0,10 N\n",
      "Pienas, 2,5% rieb. &quot;DVARO&quot;, pak. 1L\n",
      "  1,59 X 2 pakel.                                 3,18 A\n",
      "Nuolaida prekei                                  -0,40 A\n",
      "Nerafinuotas cukranendrių cukrus DELIKA\n",
      "  1,65 X 2 vnt.                                   3,30 A\n",
      "Nuolaida prekei                                  -1,66 A\n",
      "GUBERNIJOS tamsi ruginė duonos gira\n",
      "  0,85 X 2 vnt.                                   1,70 A\n",
      "Skardinė (depozitinė) 0,10 EUR\n",
      "  0,10 X 2 vnt.                                   0,20 N\n",
      "Švž. broilerių, užaugintų be antibiotikų, blauzdelės b\n",
      "s                                                 2,99 A\n",
      "Nuolaida prekei                                  -0,60 A\n",
      "Glaistytas varškės sūrelis KARUMS su vanilinu, 22,5%\n",
      "ri\n",
      "  0,59 X 5 pakel.                                 2,95 A\n",
      "====================================================== #\n",
      "Suteiktos nuolaidos:                                   #\n",
      "Atsiskaityta MAXIMOS pinigais                    -0,06 A\n",
      "Kitos pritaikytos nuolaidos                      -3,02 #\n",
      "========================================================\n",
      "Iš viso pritaikyta nuolaidų                         3,08\n",
      "- - - - - - - - - - - - - - - - - - - - - - - - - - - - \n",
      "                     PVM          Be PVM          Su PVM\n",
      "A=21,00%            2,29           10,89           13,18\n",
      "N=Neapmok.                          0,30            0,30\n",
      "--------------------------------------------------------\n",
      "                    2,29           11,19           13,48\n",
      "========================================================\n",
      "Mokėti                                             13,48\n",
      "Mokėta (negrynaisiais)                             13,48\n",
      "bankine kortele 559537******9826 13,48                 #\n",
      "------------------------------------------------------ #\n",
      "AČIŪ kortelė 944000*********6864                       #\n",
      "Nurašyta MAXIMOS PINIGŲ 0,06                           #\n",
      "Iš viso MAXIMOS PINIGŲ už kvitą 0,13                   #\n",
      "MAXIMOS PINIGŲ likutis 0,13                            #\n",
      "------------------------------------------------------ #\n",
      "------------------------------------------------------ #\n",
      "MOKĖJIMAS KORTELE                                      #\n",
      "Bekontaktis atsiskaitymas                              #\n",
      "PARDAVIMAS                                             #\n",
      "DOKUMENTO NR       840235-221229202323                 #\n",
      "KVITO NR                        190882                 #\n",
      "TERMINAL ID                   03209927                 #\n",
      "MERCHANT ID                 0009161110                 #\n",
      "LAIKAS             2022-12-29 20:23:17                 #\n",
      "Swedbank MASTERCARD    ************9826                #\n",
      "A0000000041010          TVR:0020008000                 #\n",
      "TSI:A800 AIP:1B80ARQC:E42F79C98E2F2969                 #\n",
      "MASTERCARD                                             #\n",
      "SUMA:                        13,48 EUR                 #\n",
      "Autorizacijos Nr       929393      T:1                 #\n",
      "IŠSAUGOKITE KVITO KOPIJĄ SĄSKAITOS                     #\n",
      "IŠRAŠO PATIKRINIMUI                                    #\n",
      "RRN: 236313658535                                      #\n",
      "                                                       #\n",
      "Jums priklauso 1 akcijos                               #\n",
      "KitchenAid lipdukas (-ai)!                             #\n",
      "Inv. Nr. 1930-0091-1040-2504                           #</pre>\n",
      "                </td>\n",
      "            </tr>\n",
      "        </tbody>\n",
      "    </table>\n",
      "\n",
      "    <div style=\"width:100%\">\n",
      "        <div style=\"display:table; margin: 0 auto;\">\n",
      "            <div style=\"display:table-row\">\n",
      "                <div style=\"display:table-cell;padding:0px;\">\n",
      "                    <center>\n",
      "                        <img style=\"width: 230px; height: 63px\" class=\"imgC\" width=\"230\" height=\"63\" src=\"cid:a142d442-a3e7-475e-aaf6-ce554e762261\" />\n",
      "                    </center>\n",
      "                    <center style=\"padding: 0px; letter-spacing: 6px\">\n",
      "                        1930009110402504\n",
      "                    </center>\n",
      "                </div>\n",
      "            </div>\n",
      "        </div>\n",
      "    </div>\n",
      "\n",
      "    <pre style=\"text-align: center;\">AČIŪ, KAD PIRKOTE!\n",
      "*Daugiau informacijos sužinokite\n",
      "www.maxima.lt arba telefonu 8 800 20050\n",
      "Kasininkas (-ė) 1009307 9\n",
      "LTF NM 00000052AB52                  2022 12 29 20:23:39\n",
      "</pre>\n",
      "    <p style=\"text-align: center;\">MAXIMA</p>\n",
      "\n",
      "    <p></p>\n",
      "\n",
      "\n",
      "</body>\n",
      "</html>\n",
      "</body></html>\n"
     ]
    }
   ],
   "source": [
    "# print(msg1.get_payload(decode=True), msg2.get_payload(decode=True))\n",
    "print(msg2body.decode())"
   ]
  },
  {
   "cell_type": "code",
   "execution_count": 9,
   "metadata": {},
   "outputs": [
    {
     "name": "stdout",
     "output_type": "stream",
     "text": [
      "<html><body>\n",
      "\n",
      "\n",
      "<html>\n",
      "\n",
      "<body>\n",
      "\n",
      "    <div class=\"previewText\" style=\"display:none; max-height: 0px; overflow: hidden\">\n",
      "            <p>Apsipirkimo suma: 13.48 EUR</p>\n",
      "            <br />\n",
      "                <p>Kvito nuolaidų suma: 3.08 EUR</p>\n",
      "                <br />\n",
      "                <p> MAXIMOS PINIGŲ likutis: 0.13 EUR </p>\n",
      "            <p>\n",
      "                &nbsp;&zwnj;&nbsp;&zwnj;&nbsp;&zwnj;&nbsp;&zwnj;&nbsp;&zwnj;&nbsp;&zwnj;&nbsp;&zwnj;&nbsp;&zwnj;&nbsp;&zwnj;&nbsp;&zwnj;&nbsp;&zwnj;&nbsp;&zwnj;&nbsp;&zwnj;&nbsp;\n",
      "                &nbsp;&zwnj;&nbsp;&zwnj;&nbsp;&zwnj;&nbsp;&zwnj;&nbsp;&zwnj;&nbsp;&zwnj;&nbsp;&zwnj;&nbsp;&zwnj;&nbsp;&zwnj;&nbsp;&zwnj;&nbsp;&zwnj;&nbsp;&zwnj;&nbsp;&zwnj;&nbsp;\n",
      "                &nbsp;&zwnj;&nbsp;&zwnj;&nbsp;&zwnj;&nbsp;&zwnj;&nbsp;&zwnj;&nbsp;&zwnj;&nbsp;&zwnj;&nbsp;&zwnj;&nbsp;&zwnj;&nbsp;&zwnj;&nbsp;&zwnj;&nbsp;&zwnj;&nbsp;&zwnj;&nbsp;\n",
      "                &nbsp;&zwnj;&nbsp;&zwnj;&nbsp;&zwnj;&nbsp;&zwnj;&nbsp;&zwnj;&nbsp;&zwnj;&nbsp;&zwnj;&nbsp;&zwnj;&nbsp;&zwnj;&nbsp;&zwnj;&nbsp;&zwnj;&nbsp;&zwnj;&nbsp;&zwnj;&nbsp;\n",
      "                &nbsp;&zwnj;&nbsp;&zwnj;&nbsp;&zwnj;&nbsp;&zwnj;&nbsp;&zwnj;&nbsp;&zwnj;&nbsp;&zwnj;&nbsp;&zwnj;&nbsp;&zwnj;&nbsp;&zwnj;&nbsp;&zwnj;&nbsp;&zwnj;&nbsp;&zwnj;&nbsp;\n",
      "                &nbsp;&zwnj;&nbsp;&zwnj;&nbsp;&zwnj;&nbsp;&zwnj;&nbsp;&zwnj;&nbsp;&zwnj;&nbsp;&zwnj;&nbsp;&zwnj;&nbsp;&zwnj;&nbsp;&zwnj;&nbsp;&zwnj;&nbsp;&zwnj;&nbsp;&zwnj;&nbsp;\n",
      "                &nbsp;&zwnj;&nbsp;&zwnj;&nbsp;&zwnj;&nbsp;&zwnj;&nbsp;&zwnj;&nbsp;&zwnj;&nbsp;&zwnj;&nbsp;&zwnj;&nbsp;&zwnj;&nbsp;&zwnj;&nbsp;&zwnj;&nbsp;&zwnj;&nbsp;&zwnj;&nbsp;\n",
      "                &nbsp;&zwnj;&nbsp;&zwnj;&nbsp;&zwnj;&nbsp;&zwnj;&nbsp;&zwnj;&nbsp;&zwnj;&nbsp;&zwnj;&nbsp;&zwnj;&nbsp;&zwnj;&nbsp;&zwnj;&nbsp;&zwnj;&nbsp;&zwnj;&nbsp;&zwnj;&nbsp;\n",
      "                &nbsp;&zwnj;&nbsp;&zwnj;&nbsp;&zwnj;&nbsp;&zwnj;&nbsp;&zwnj;&nbsp;&zwnj;&nbsp;&zwnj;&nbsp;&zwnj;&nbsp;&zwnj;&nbsp;&zwnj;&nbsp;&zwnj;&nbsp;&zwnj;&nbsp;&zwnj;&nbsp;\n",
      "                &nbsp;&zwnj;&nbsp;&zwnj;&nbsp;&zwnj;&nbsp;&zwnj;&nbsp;&zwnj;&nbsp;&zwnj;&nbsp;&zwnj;&nbsp;&zwnj;&nbsp;&zwnj;&nbsp;&zwnj;&nbsp;&zwnj;&nbsp;&zwnj;&nbsp;&zwnj;&nbsp;\n",
      "            </p>\n",
      "    </div>\n",
      "\n",
      "    <table border=\"0\" align=\"center\">\n",
      "        <tbody>\n",
      "            <tr>\n",
      "                <td>\n",
      "                    <p style=\"text-align: center;\">Sveiki,</p>\n",
      "                        <pre style=\"text-align: center;\"> Tai vienintelis Jūsų pirkinių kvitas. \n",
      "Išsaugokite laišką, kad galėtumėte prireikus grąžinti \n",
      "prekes ar pasinaudoti garantiniu aptarnavimu.</pre>\n",
      "                    <p style=\"text-align: center;\"><img style=\"width: 338px; height: 63px;\" src=\"cid:6c112a3a-e174-41d9-9d8c-5a4ef6e81df8\" alt=\"\" data-udi=\"umb://media/f7b6abb6c1414edfb94ae570ea9225be\" /></p>\n",
      "                        <div style=\"text-align: center\">\n",
      "                            <pre>MAXIMA LT, UAB<br />Ukmergės g. 369, Vilnius, Kasa Nr. 9<br />PVM mokėtojo kodas LT230335113</pre>\n",
      "                        </div>\n",
      "                </td>\n",
      "            </tr>\n",
      "            <tr>\n",
      "                <td>\n",
      "                    <pre>Kvitas 250/1104                                #00338293\n",
      "Vištienos sultinys GALLINA BLANCA                 1,15 A\n",
      "Nuolaida prekei                                  -0,36 A\n",
      "Gazuotas gėrimas COCA COLA                        0,99 A\n",
      "PET (depozitinis) 0,10 EUR                        0,10 N\n",
      "Pienas, 2,5% rieb. &quot;DVARO&quot;, pak. 1L\n",
      "  1,59 X 2 pakel.                                 3,18 A\n",
      "Nuolaida prekei                                  -0,40 A\n",
      "Nerafinuotas cukranendrių cukrus DELIKA\n",
      "  1,65 X 2 vnt.                                   3,30 A\n",
      "Nuolaida prekei                                  -1,66 A\n",
      "GUBERNIJOS tamsi ruginė duonos gira\n",
      "  0,85 X 2 vnt.                                   1,70 A\n",
      "Skardinė (depozitinė) 0,10 EUR\n",
      "  0,10 X 2 vnt.                                   0,20 N\n",
      "Švž. broilerių, užaugintų be antibiotikų, blauzdelės b\n",
      "s                                                 2,99 A\n",
      "Nuolaida prekei                                  -0,60 A\n",
      "Glaistytas varškės sūrelis KARUMS su vanilinu, 22,5%\n",
      "ri\n",
      "  0,59 X 5 pakel.                                 2,95 A\n",
      "====================================================== #\n",
      "Suteiktos nuolaidos:                                   #\n",
      "Atsiskaityta MAXIMOS pinigais                    -0,06 A\n",
      "Kitos pritaikytos nuolaidos                      -3,02 #\n",
      "========================================================\n",
      "Iš viso pritaikyta nuolaidų                         3,08\n",
      "- - - - - - - - - - - - - - - - - - - - - - - - - - - - \n",
      "                     PVM          Be PVM          Su PVM\n",
      "A=21,00%            2,29           10,89           13,18\n",
      "N=Neapmok.                          0,30            0,30\n",
      "--------------------------------------------------------\n",
      "                    2,29           11,19           13,48\n",
      "========================================================\n",
      "Mokėti                                             13,48\n",
      "Mokėta (negrynaisiais)                             13,48\n",
      "bankine kortele 559537******9826 13,48                 #\n",
      "------------------------------------------------------ #\n",
      "AČIŪ kortelė 944000*********6864                       #\n",
      "Nurašyta MAXIMOS PINIGŲ 0,06                           #\n",
      "Iš viso MAXIMOS PINIGŲ už kvitą 0,13                   #\n",
      "MAXIMOS PINIGŲ likutis 0,13                            #\n",
      "------------------------------------------------------ #\n",
      "------------------------------------------------------ #\n",
      "MOKĖJIMAS KORTELE                                      #\n",
      "Bekontaktis atsiskaitymas                              #\n",
      "PARDAVIMAS                                             #\n",
      "DOKUMENTO NR       840235-221229202323                 #\n",
      "KVITO NR                        190882                 #\n",
      "TERMINAL ID                   03209927                 #\n",
      "MERCHANT ID                 0009161110                 #\n",
      "LAIKAS             2022-12-29 20:23:17                 #\n",
      "Swedbank MASTERCARD    ************9826                #\n",
      "A0000000041010          TVR:0020008000                 #\n",
      "TSI:A800 AIP:1B80ARQC:E42F79C98E2F2969                 #\n",
      "MASTERCARD                                             #\n",
      "SUMA:                        13,48 EUR                 #\n",
      "Autorizacijos Nr       929393      T:1                 #\n",
      "IŠSAUGOKITE KVITO KOPIJĄ SĄSKAITOS                     #\n",
      "IŠRAŠO PATIKRINIMUI                                    #\n",
      "RRN: 236313658535                                      #\n",
      "                                                       #\n",
      "Jums priklauso 1 akcijos                               #\n",
      "KitchenAid lipdukas (-ai)!                             #\n",
      "Inv. Nr. 1930-0091-1040-2504                           #</pre>\n",
      "                </td>\n",
      "            </tr>\n",
      "        </tbody>\n",
      "    </table>\n",
      "\n",
      "    <div style=\"width:100%\">\n",
      "        <div style=\"display:table; margin: 0 auto;\">\n",
      "            <div style=\"display:table-row\">\n",
      "                <div style=\"display:table-cell;padding:0px;\">\n",
      "                    <center>\n",
      "                        <img style=\"width: 230px; height: 63px\" class=\"imgC\" width=\"230\" height=\"63\" src=\"cid:a142d442-a3e7-475e-aaf6-ce554e762261\" />\n",
      "                    </center>\n",
      "                    <center style=\"padding: 0px; letter-spacing: 6px\">\n",
      "                        1930009110402504\n",
      "                    </center>\n",
      "                </div>\n",
      "            </div>\n",
      "        </div>\n",
      "    </div>\n",
      "\n",
      "    <pre style=\"text-align: center;\">AČIŪ, KAD PIRKOTE!\n",
      "*Daugiau informacijos sužinokite\n",
      "www.maxima.lt arba telefonu 8 800 20050\n",
      "Kasininkas (-ė) 1009307 9\n",
      "LTF NM 00000052AB52                  2022 12 29 20:23:39\n",
      "</pre>\n",
      "    <p style=\"text-align: center;\">MAXIMA</p>\n",
      "\n",
      "    <p></p>\n",
      "\n",
      "\n",
      "</body>\n",
      "</html>\n",
      "</body></html>\n"
     ]
    },
    {
     "ename": "UnicodeDecodeError",
     "evalue": "'utf-8' codec can't decode byte 0xfe in position 2: invalid start byte",
     "output_type": "error",
     "traceback": [
      "\u001b[1;31m---------------------------------------------------------------------------\u001b[0m",
      "\u001b[1;31mUnicodeDecodeError\u001b[0m                        Traceback (most recent call last)",
      "Cell \u001b[1;32mIn[9], line 8\u001b[0m\n\u001b[0;32m      6\u001b[0m         decoded_body \u001b[39m=\u001b[39m part\u001b[39m.\u001b[39mget_payload(decode\u001b[39m=\u001b[39m\u001b[39mTrue\u001b[39;00m)\n\u001b[0;32m      7\u001b[0m         \u001b[39m# Print the decoded body\u001b[39;00m\n\u001b[1;32m----> 8\u001b[0m         \u001b[39mprint\u001b[39m(decoded_body\u001b[39m.\u001b[39;49mdecode())\n\u001b[0;32m      9\u001b[0m \u001b[39melse\u001b[39;00m:\n\u001b[0;32m     10\u001b[0m     \u001b[39m# Decode the body of the email\u001b[39;00m\n\u001b[0;32m     11\u001b[0m     decoded_body \u001b[39m=\u001b[39m email_message\u001b[39m.\u001b[39mget_payload(decode\u001b[39m=\u001b[39m\u001b[39mTrue\u001b[39;00m)\n",
      "\u001b[1;31mUnicodeDecodeError\u001b[0m: 'utf-8' codec can't decode byte 0xfe in position 2: invalid start byte"
     ]
    }
   ],
   "source": [
    "\n",
    "# Check if the email is a multipart email\n",
    "if email_message.is_multipart():\n",
    "    # Loop through the message parts\n",
    "    for part in email_message.get_payload():\n",
    "        # Decode the body of each part\n",
    "        decoded_body = part.get_payload(decode=True)\n",
    "        # Print the decoded body\n",
    "        print(decoded_body.decode())\n",
    "else:\n",
    "    # Decode the body of the email\n",
    "    decoded_body = email_message.get_payload(decode=True)\n",
    "    # Print the decoded body\n",
    "    print(decoded_body.decode())"
   ]
  },
  {
   "cell_type": "code",
   "execution_count": 32,
   "metadata": {},
   "outputs": [
    {
     "data": {
      "text/plain": [
       "('BYE', [b'IMAP4rev1 Server logging out'])"
      ]
     },
     "execution_count": 32,
     "metadata": {},
     "output_type": "execute_result"
    }
   ],
   "source": [
    "# Disconnect from the server\n",
    "imap_server.close()\n",
    "imap_server.logout()"
   ]
  }
 ],
 "metadata": {
  "kernelspec": {
   "display_name": "Python 3.11.0 64-bit",
   "language": "python",
   "name": "python3"
  },
  "language_info": {
   "codemirror_mode": {
    "name": "ipython",
    "version": 3
   },
   "file_extension": ".py",
   "mimetype": "text/x-python",
   "name": "python",
   "nbconvert_exporter": "python",
   "pygments_lexer": "ipython3",
   "version": "3.11.0"
  },
  "orig_nbformat": 4,
  "vscode": {
   "interpreter": {
    "hash": "c1fad06e6adf4e56bd2b7ae29e05b229358072c93aa5dc998aceb1464595b7d8"
   }
  }
 },
 "nbformat": 4,
 "nbformat_minor": 2
}
