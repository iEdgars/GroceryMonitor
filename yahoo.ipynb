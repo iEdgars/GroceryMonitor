{
 "cells": [
  {
   "cell_type": "code",
   "execution_count": 1,
   "metadata": {},
   "outputs": [],
   "source": [
    "#start\n",
    "import gspread #type:ignore NOQA\n",
    "import imaplib\n",
    "import email\n",
    "import json\n",
    "\n",
    "#connecting to GSeets and selecting the file\n",
    "sa = gspread.service_account(filename=\"sa_creds.json\")\n",
    "\n",
    "#read credentials from json\n",
    "with open(\"ym_creds.json\", \"r\") as f:\n",
    "    jmCreds = json.load(f)\n",
    "\n",
    "groceryBrandDoneEmails = [] #list to write to GSheets\n",
    "def groceryBrandEmails(GroceryBrand: str, emailList):\n",
    "    for i in emailList:\n",
    "        f = [GroceryBrand]\n",
    "        f.append(i)\n",
    "        groceryBrandDoneEmails.append(f)\n",
    "\n",
    "sh = sa.open(\"Grocery\")\n",
    "#selecting sheets:\n",
    "wksEmails = sh.worksheet(\"Emails\")\n",
    "wksSummaryMaxima = sh.worksheet(\"MaximaSummarized\")\n",
    "\n",
    "#getting data from wksEmails sheet\n",
    "# wksEmails.get()\n",
    "maximaAlreadyIn = [i[1] for i in wksEmails.get() if 'Maxima' in i[0]]"
   ]
  },
  {
   "cell_type": "code",
   "execution_count": 2,
   "metadata": {},
   "outputs": [],
   "source": [
    "# Connect to the Yahoo Mail IMAP server\n",
    "imap_server = imaplib.IMAP4_SSL(\"imap.mail.yahoo.com\")\n",
    "# Login to the account\n",
    "imap_server.login(jmCreds[\"email\"], jmCreds[\"password\"])\n",
    "# Select the \"Inbox\" folder\n",
    "imap_server.select(\"Inbox\")\n",
    "\n",
    "# Search for all emails: status, email_ids = imap_server.search(None, \"ALL\")\n",
    "# Search for all emails from MAXIMA\n",
    "status, email_ids = imap_server.search(None, \"FROM noreply.code.provider@maxima.lt\")\n",
    "maximaEmails = email_ids[0].decode().split()\n",
    "\n",
    "maximaToAdd = [i for i in maximaEmails if i not in maximaAlreadyIn]"
   ]
  },
  {
   "cell_type": "code",
   "execution_count": 3,
   "metadata": {},
   "outputs": [
    {
     "data": {
      "text/plain": [
       "['5468', '5482', '5495', '5497', '5529']"
      ]
     },
     "execution_count": 3,
     "metadata": {},
     "output_type": "execute_result"
    }
   ],
   "source": [
    "maximaToAdd"
   ]
  },
  {
   "cell_type": "code",
   "execution_count": 5,
   "metadata": {},
   "outputs": [],
   "source": [
    "receiptSummaryData = [[]]\n",
    "def readMaximaReceiptSummary(EmailId: str, receipt):\n",
    "    for i in range(0, 11):\n",
    "        receiptSummaryData[0].append('')\n",
    "    receiptSummaryData[0][0] = EmailId\n",
    "    for i in receipt:\n",
    "        #Receipt_id\n",
    "        if '<pre>Kvitas ' in i:\n",
    "            receiptSummaryData[0][1] = i.split()[1]\n",
    "        #BankReceipt_id\n",
    "        if 'KVITO NR' in i:\n",
    "            receiptSummaryData[0][2] = i.split()[2]\n",
    "        #Receipt_Document#\n",
    "        if 'DOKUMENTO NR' in i:\n",
    "            receiptSummaryData[0][3] = i.split()[2]\n",
    "        #RRN\n",
    "        if 'RRN:' in i:\n",
    "            receiptSummaryData[0][4] = i.split()[1]\n",
    "        #Date\n",
    "        if 'LTF NM ' in i:\n",
    "            receiptSummaryData[0][5] = f'{i.split()[3]}-{i.split()[4]}-{i.split()[5]}'\n",
    "        #Time\n",
    "        if 'LTF NM ' in i:\n",
    "            receiptSummaryData[0][6] = i.split()[6]\n",
    "        #GroceryBrand\n",
    "        if 'MAXIMA LT' in i:\n",
    "            receiptSummaryData[0][7] = 'MAXIMA LT'\n",
    "        #Address\n",
    "        if 'MAXIMA LT, UAB' in i:\n",
    "            receiptSummaryData[0][8] = i.split('<br />')[1].split(' Kasa Nr.')[0][:-1]\n",
    "        #TotalAmount\n",
    "        if 'Apsipirkimo suma:' in i:\n",
    "            receiptSummaryData[0][9] = i.split(': ')[1][:-4]\n",
    "        #TotalDiscount\n",
    "        if 'Kvito nuolaidų suma:' in i:\n",
    "            receiptSummaryData[0][10] = i.split(': ')[1][:-4]\n"
   ]
  },
  {
   "cell_type": "code",
   "execution_count": 6,
   "metadata": {},
   "outputs": [],
   "source": [
    "for i in maximaToAdd:\n",
    "    status, email_data = imap_server.fetch(i, \"(RFC822)\")\n",
    "    email_message = email.message_from_bytes(email_data[0][1])\n",
    "    \n",
    "    msg1 = email_message.get_payload()[0]\n",
    "    msg1body = msg1.get_payload(decode=True)\n",
    "    singleEmail = msg1body.decode().split('\\r\\n')\n",
    "    readMaximaReceiptSummary(i, singleEmail)\n",
    "    wksSummaryMaxima.append_rows(receiptSummaryData)\n"
   ]
  },
  {
   "cell_type": "code",
   "execution_count": 7,
   "metadata": {},
   "outputs": [
    {
     "data": {
      "text/plain": [
       "('BYE', [b'IMAP4rev1 Server logging out'])"
      ]
     },
     "execution_count": 7,
     "metadata": {},
     "output_type": "execute_result"
    }
   ],
   "source": [
    "# Disconnect from the server\n",
    "imap_server.close()\n",
    "imap_server.logout()"
   ]
  }
 ],
 "metadata": {
  "kernelspec": {
   "display_name": "Python 3.11.0 64-bit",
   "language": "python",
   "name": "python3"
  },
  "language_info": {
   "codemirror_mode": {
    "name": "ipython",
    "version": 3
   },
   "file_extension": ".py",
   "mimetype": "text/x-python",
   "name": "python",
   "nbconvert_exporter": "python",
   "pygments_lexer": "ipython3",
   "version": "3.11.0"
  },
  "orig_nbformat": 4,
  "vscode": {
   "interpreter": {
    "hash": "c1fad06e6adf4e56bd2b7ae29e05b229358072c93aa5dc998aceb1464595b7d8"
   }
  }
 },
 "nbformat": 4,
 "nbformat_minor": 2
}
