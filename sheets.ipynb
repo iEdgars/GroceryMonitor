{
 "cells": [
  {
   "cell_type": "code",
   "execution_count": 6,
   "metadata": {},
   "outputs": [],
   "source": [
    "import gspread #type:ignore NOQA\n",
    "#connecting to GSeets and selecting the file\n",
    "sa = gspread.service_account(filename=\"sa_creds.json\") #sa.list_spreadsheet_files() to list SpreadSheet's for the account\n",
    "sh = sa.open(\"Grocery\") #sh.worksheets() to list Worksheets in selected SpreadSheet"
   ]
  },
  {
   "cell_type": "code",
   "execution_count": 7,
   "metadata": {},
   "outputs": [],
   "source": [
    "#selecting sheets:\n",
    "wksEmails = sh.worksheet(\"Emails\")"
   ]
  }
 ],
 "metadata": {
  "kernelspec": {
   "display_name": "Python 3",
   "language": "python",
   "name": "python3"
  },
  "language_info": {
   "codemirror_mode": {
    "name": "ipython",
    "version": 3
   },
   "file_extension": ".py",
   "mimetype": "text/x-python",
   "name": "python",
   "nbconvert_exporter": "python",
   "pygments_lexer": "ipython3",
   "version": "3.11.0"
  },
  "orig_nbformat": 4,
  "vscode": {
   "interpreter": {
    "hash": "c1fad06e6adf4e56bd2b7ae29e05b229358072c93aa5dc998aceb1464595b7d8"
   }
  }
 },
 "nbformat": 4,
 "nbformat_minor": 2
}
