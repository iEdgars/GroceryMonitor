{
 "cells": [
  {
   "cell_type": "code",
   "execution_count": 1,
   "metadata": {},
   "outputs": [],
   "source": [
    "import gspread #type:ignore NOQA\n",
    "#connecting to GSeets and selecting the file\n",
    "sa = gspread.service_account(filename=\"sa_creds.json\") #sa.list_spreadsheet_files() to list SpreadSheet's for the account\n",
    "sh = sa.open(\"Grocery\") #sh.worksheets() to list Worksheets in selected SpreadSheet"
   ]
  },
  {
   "cell_type": "code",
   "execution_count": 9,
   "metadata": {},
   "outputs": [],
   "source": [
    "maximaEmailList = []\n",
    "def maximaEmails(emailList):\n",
    "    decodedemailList = emailList[0].decode()\n",
    "    singleEmails = decodedemailList.split()\n",
    "    for i in singleEmails:\n",
    "        f = ['Maxima']\n",
    "        f.append(i)\n",
    "        maximaEmailList.append(f)"
   ]
  },
  {
   "cell_type": "code",
   "execution_count": 2,
   "metadata": {},
   "outputs": [],
   "source": [
    "#selecting sheets:\n",
    "wksEmails = sh.worksheet(\"Emails\")"
   ]
  },
  {
   "cell_type": "code",
   "execution_count": 4,
   "metadata": {},
   "outputs": [],
   "source": [
    "sEmails = emails[0].decode()"
   ]
  },
  {
   "cell_type": "code",
   "execution_count": 5,
   "metadata": {},
   "outputs": [],
   "source": [
    "eachEmail = sEmails.split()"
   ]
  },
  {
   "cell_type": "code",
   "execution_count": 10,
   "metadata": {},
   "outputs": [],
   "source": [
    "maximaEmails(emails)"
   ]
  },
  {
   "cell_type": "code",
   "execution_count": 13,
   "metadata": {},
   "outputs": [
    {
     "data": {
      "text/plain": [
       "{'spreadsheetId': '10-mjgW6dVIMLh5iVe6NbyIbI_N3XZ0mOFGlxilp4W0s',\n",
       " 'tableRange': 'Emails!A1:B1',\n",
       " 'updates': {'spreadsheetId': '10-mjgW6dVIMLh5iVe6NbyIbI_N3XZ0mOFGlxilp4W0s',\n",
       "  'updatedRange': 'Emails!A2:B209',\n",
       "  'updatedRows': 208,\n",
       "  'updatedColumns': 2,\n",
       "  'updatedCells': 416}}"
      ]
     },
     "execution_count": 13,
     "metadata": {},
     "output_type": "execute_result"
    }
   ],
   "source": [
    "wksEmails.append_rows(maximaEmailList)"
   ]
  },
  {
   "cell_type": "code",
   "execution_count": 15,
   "metadata": {},
   "outputs": [],
   "source": [
    "wksEmails.get()\n",
    "maximaAlreadyIn = [i[1] for i in wksEmails.get() if 'Maxima' in i[0]]"
   ]
  },
  {
   "cell_type": "code",
   "execution_count": 16,
   "metadata": {},
   "outputs": [
    {
     "data": {
      "text/plain": [
       "['2674',\n",
       " '2826',\n",
       " '3711',\n",
       " '3712',\n",
       " '3730',\n",
       " '3754',\n",
       " '3770',\n",
       " '3780',\n",
       " '3781',\n",
       " '3792',\n",
       " '3793',\n",
       " '3797',\n",
       " '3805',\n",
       " '3812',\n",
       " '3814',\n",
       " '3858',\n",
       " '3876',\n",
       " '3894',\n",
       " '3906',\n",
       " '3907',\n",
       " '3929',\n",
       " '3944',\n",
       " '3946',\n",
       " '3956',\n",
       " '3958',\n",
       " '3972',\n",
       " '3979',\n",
       " '3980',\n",
       " '3983',\n",
       " '3984',\n",
       " '3985',\n",
       " '3986',\n",
       " '3990',\n",
       " '4007',\n",
       " '4009',\n",
       " '4020',\n",
       " '4026',\n",
       " '4027',\n",
       " '4036',\n",
       " '4045',\n",
       " '4051',\n",
       " '4055',\n",
       " '4075',\n",
       " '4082',\n",
       " '4085',\n",
       " '4090',\n",
       " '4120',\n",
       " '4128',\n",
       " '4136',\n",
       " '4145',\n",
       " '4160',\n",
       " '4180',\n",
       " '4203',\n",
       " '4204',\n",
       " '4211',\n",
       " '4224',\n",
       " '4234',\n",
       " '4246',\n",
       " '4250',\n",
       " '4254',\n",
       " '4263',\n",
       " '4264',\n",
       " '4271',\n",
       " '4272',\n",
       " '4286',\n",
       " '4289',\n",
       " '4291',\n",
       " '4300',\n",
       " '4303',\n",
       " '4314',\n",
       " '4319',\n",
       " '4320',\n",
       " '4335',\n",
       " '4342',\n",
       " '4348',\n",
       " '4349',\n",
       " '4351',\n",
       " '4365',\n",
       " '4367',\n",
       " '4391',\n",
       " '4408',\n",
       " '4419',\n",
       " '4428',\n",
       " '4437',\n",
       " '4440',\n",
       " '4453',\n",
       " '4476',\n",
       " '4481',\n",
       " '4503',\n",
       " '4506',\n",
       " '4518',\n",
       " '4528',\n",
       " '4534',\n",
       " '4546',\n",
       " '4552',\n",
       " '4602',\n",
       " '4603',\n",
       " '4608',\n",
       " '4615',\n",
       " '4630',\n",
       " '4631',\n",
       " '4640',\n",
       " '4653',\n",
       " '4657',\n",
       " '4678',\n",
       " '4693',\n",
       " '4696',\n",
       " '4703',\n",
       " '4708',\n",
       " '4721',\n",
       " '4737',\n",
       " '4738',\n",
       " '4745',\n",
       " '4748',\n",
       " '4755',\n",
       " '4756',\n",
       " '4757',\n",
       " '4778',\n",
       " '4785',\n",
       " '4793',\n",
       " '4802',\n",
       " '4812',\n",
       " '4819',\n",
       " '4826',\n",
       " '4846',\n",
       " '4856',\n",
       " '4859',\n",
       " '4861',\n",
       " '4883',\n",
       " '4888',\n",
       " '4891',\n",
       " '4892',\n",
       " '4899',\n",
       " '4910',\n",
       " '4919',\n",
       " '4933',\n",
       " '4938',\n",
       " '4942',\n",
       " '4945',\n",
       " '4956',\n",
       " '4960',\n",
       " '4969',\n",
       " '4983',\n",
       " '4986',\n",
       " '4987',\n",
       " '5001',\n",
       " '5002',\n",
       " '5010',\n",
       " '5013',\n",
       " '5019',\n",
       " '5022',\n",
       " '5023',\n",
       " '5025',\n",
       " '5029',\n",
       " '5030',\n",
       " '5034',\n",
       " '5035',\n",
       " '5047',\n",
       " '5048',\n",
       " '5049',\n",
       " '5056',\n",
       " '5064',\n",
       " '5065',\n",
       " '5085',\n",
       " '5087',\n",
       " '5106',\n",
       " '5133',\n",
       " '5135',\n",
       " '5144',\n",
       " '5165',\n",
       " '5169',\n",
       " '5184',\n",
       " '5185',\n",
       " '5188',\n",
       " '5191',\n",
       " '5192',\n",
       " '5194',\n",
       " '5232',\n",
       " '5235',\n",
       " '5247',\n",
       " '5250',\n",
       " '5253',\n",
       " '5256',\n",
       " '5283',\n",
       " '5289',\n",
       " '5293',\n",
       " '5304',\n",
       " '5305',\n",
       " '5306',\n",
       " '5307',\n",
       " '5316',\n",
       " '5334',\n",
       " '5346',\n",
       " '5354',\n",
       " '5362',\n",
       " '5378',\n",
       " '5401',\n",
       " '5403',\n",
       " '5405',\n",
       " '5416',\n",
       " '5432',\n",
       " '5447',\n",
       " '5458',\n",
       " '5466',\n",
       " '5468',\n",
       " '5482',\n",
       " '5495',\n",
       " '5497']"
      ]
     },
     "execution_count": 16,
     "metadata": {},
     "output_type": "execute_result"
    }
   ],
   "source": [
    "maximaAlreadyIn"
   ]
  },
  {
   "cell_type": "code",
   "execution_count": 3,
   "metadata": {},
   "outputs": [
    {
     "data": {
      "text/plain": [
       "('BYE', [b'IMAP4rev1 Server logging out'])"
      ]
     },
     "execution_count": 3,
     "metadata": {},
     "output_type": "execute_result"
    }
   ],
   "source": [
    "#start\n",
    "import imaplib\n",
    "import email\n",
    "import json\n",
    "\n",
    "#read credentials from json\n",
    "with open(\"ym_creds.json\", \"r\") as f:\n",
    "    jmCreds = json.load(f)\n",
    "\n",
    "# Connect to the Yahoo Mail IMAP server\n",
    "imap_server = imaplib.IMAP4_SSL(\"imap.mail.yahoo.com\")\n",
    "# Login to the account\n",
    "imap_server.login(jmCreds[\"email\"], jmCreds[\"password\"])\n",
    "# Select the \"Inbox\" folder\n",
    "imap_server.select(\"Inbox\")\n",
    "\n",
    "# Search for all emails from MAXIMA\n",
    "status, email_ids = imap_server.search(None, \"FROM noreply.code.provider@maxima.lt\")\n",
    "# Print the list of email IDs\n",
    "emails = email_ids\n",
    "\n",
    "# Disconnect from the server\n",
    "imap_server.close()\n",
    "imap_server.logout()"
   ]
  }
 ],
 "metadata": {
  "kernelspec": {
   "display_name": "Python 3",
   "language": "python",
   "name": "python3"
  },
  "language_info": {
   "codemirror_mode": {
    "name": "ipython",
    "version": 3
   },
   "file_extension": ".py",
   "mimetype": "text/x-python",
   "name": "python",
   "nbconvert_exporter": "python",
   "pygments_lexer": "ipython3",
   "version": "3.11.0"
  },
  "orig_nbformat": 4,
  "vscode": {
   "interpreter": {
    "hash": "c1fad06e6adf4e56bd2b7ae29e05b229358072c93aa5dc998aceb1464595b7d8"
   }
  }
 },
 "nbformat": 4,
 "nbformat_minor": 2
}
