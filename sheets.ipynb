{
 "cells": [
  {
   "cell_type": "code",
   "execution_count": 1,
   "metadata": {},
   "outputs": [],
   "source": [
    "import gspread #type:ignore NOQA\n",
    "#connecting to GSeets and selecting the file\n",
    "sa = gspread.service_account(filename=\"sa_creds.json\") #sa.list_spreadsheet_files() to list SpreadSheet's for the account\n",
    "sh = sa.open(\"Grocery\") #sh.worksheets() to list Worksheets in selected SpreadSheet"
   ]
  },
  {
   "cell_type": "code",
   "execution_count": 3,
   "metadata": {},
   "outputs": [],
   "source": [
    "maximaEmailList = [] #list to write to GSheets\n",
    "def maximaEmails(emailList):\n",
    "    decodedemailList = emailList[0].decode()\n",
    "    singleEmails = decodedemailList.split()\n",
    "    for i in singleEmails:\n",
    "        f = ['Maxima']\n",
    "        f.append(i)\n",
    "        maximaEmailList.append(f)"
   ]
  },
  {
   "cell_type": "code",
   "execution_count": 4,
   "metadata": {},
   "outputs": [],
   "source": [
    "#selecting sheets:\n",
    "wksEmails = sh.worksheet(\"Emails\")"
   ]
  },
  {
   "cell_type": "code",
   "execution_count": 5,
   "metadata": {},
   "outputs": [],
   "source": [
    "sEmails = emails[0].decode()"
   ]
  },
  {
   "cell_type": "code",
   "execution_count": 6,
   "metadata": {},
   "outputs": [],
   "source": [
    "eachEmail = sEmails.split()"
   ]
  },
  {
   "cell_type": "code",
   "execution_count": 6,
   "metadata": {},
   "outputs": [],
   "source": [
    "maximaEmails(emails)"
   ]
  },
  {
   "cell_type": "code",
   "execution_count": 13,
   "metadata": {},
   "outputs": [
    {
     "data": {
      "text/plain": [
       "{'spreadsheetId': '10-mjgW6dVIMLh5iVe6NbyIbI_N3XZ0mOFGlxilp4W0s',\n",
       " 'tableRange': 'Emails!A1:B1',\n",
       " 'updates': {'spreadsheetId': '10-mjgW6dVIMLh5iVe6NbyIbI_N3XZ0mOFGlxilp4W0s',\n",
       "  'updatedRange': 'Emails!A2:B209',\n",
       "  'updatedRows': 208,\n",
       "  'updatedColumns': 2,\n",
       "  'updatedCells': 416}}"
      ]
     },
     "execution_count": 13,
     "metadata": {},
     "output_type": "execute_result"
    }
   ],
   "source": [
    "wksEmails.append_rows(maximaEmailList)"
   ]
  },
  {
   "cell_type": "code",
   "execution_count": 12,
   "metadata": {},
   "outputs": [],
   "source": [
    "wksEmails.get()\n",
    "maximaAlreadyIn = [i[1] for i in wksEmails.get() if 'Maxima' in i[0]]"
   ]
  },
  {
   "cell_type": "code",
   "execution_count": 14,
   "metadata": {},
   "outputs": [],
   "source": [
    "toAdd = [i for i in eachEmail if i not in maximaAlreadyIn]"
   ]
  },
  {
   "cell_type": "code",
   "execution_count": 7,
   "metadata": {},
   "outputs": [
    {
     "ename": "NameError",
     "evalue": "name 'maximaEmailList' is not defined",
     "output_type": "error",
     "traceback": [
      "\u001b[1;31m---------------------------------------------------------------------------\u001b[0m",
      "\u001b[1;31mNameError\u001b[0m                                 Traceback (most recent call last)",
      "Cell \u001b[1;32mIn[7], line 2\u001b[0m\n\u001b[0;32m      1\u001b[0m \u001b[39m# toAdd\u001b[39;00m\n\u001b[1;32m----> 2\u001b[0m maximaEmailList\n",
      "\u001b[1;31mNameError\u001b[0m: name 'maximaEmailList' is not defined"
     ]
    }
   ],
   "source": [
    "# toAdd\n",
    "maximaEmailList"
   ]
  },
  {
   "cell_type": "code",
   "execution_count": 5,
   "metadata": {},
   "outputs": [
    {
     "data": {
      "text/plain": [
       "('BYE', [b'IMAP4rev1 Server logging out'])"
      ]
     },
     "execution_count": 5,
     "metadata": {},
     "output_type": "execute_result"
    }
   ],
   "source": [
    "#start\n",
    "import imaplib\n",
    "import email\n",
    "import json\n",
    "\n",
    "#read credentials from json\n",
    "with open(\"ym_creds.json\", \"r\") as f:\n",
    "    jmCreds = json.load(f)\n",
    "\n",
    "# Connect to the Yahoo Mail IMAP server\n",
    "imap_server = imaplib.IMAP4_SSL(\"imap.mail.yahoo.com\")\n",
    "# Login to the account\n",
    "imap_server.login(jmCreds[\"email\"], jmCreds[\"password\"])\n",
    "# Select the \"Inbox\" folder\n",
    "imap_server.select(\"Inbox\")\n",
    "\n",
    "# Search for all emails from MAXIMA\n",
    "status, email_ids = imap_server.search(None, \"FROM noreply.code.provider@maxima.lt\")\n",
    "# Print the list of email IDs\n",
    "emails = email_ids\n",
    "\n",
    "# Disconnect from the server\n",
    "imap_server.close()\n",
    "imap_server.logout()"
   ]
  }
 ],
 "metadata": {
  "kernelspec": {
   "display_name": "Python 3",
   "language": "python",
   "name": "python3"
  },
  "language_info": {
   "codemirror_mode": {
    "name": "ipython",
    "version": 3
   },
   "file_extension": ".py",
   "mimetype": "text/x-python",
   "name": "python",
   "nbconvert_exporter": "python",
   "pygments_lexer": "ipython3",
   "version": "3.11.0"
  },
  "orig_nbformat": 4,
  "vscode": {
   "interpreter": {
    "hash": "c1fad06e6adf4e56bd2b7ae29e05b229358072c93aa5dc998aceb1464595b7d8"
   }
  }
 },
 "nbformat": 4,
 "nbformat_minor": 2
}
